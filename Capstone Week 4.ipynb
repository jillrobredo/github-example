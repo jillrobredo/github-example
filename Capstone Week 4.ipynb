{
    "cells": [
        {
            "cell_type": "markdown",
            "metadata": {
                "collapsed": true
            },
            "source": "# The Battle of Neighborhoods (Week 1)"
        },
        {
            "cell_type": "markdown",
            "metadata": {},
            "source": "### 1. Introduction / Business Problem"
        },
        {
            "cell_type": "markdown",
            "metadata": {},
            "source": "Due to extreme job layoffs brought by the current COVID-19 crisis, more people are planning to open new businesses -- restaurants, shops, etc. This study aims to help people choose the right location by providing income and population of each neighborhood in New York. It also aims to provide the competitors already present in the same area."
        },
        {
            "cell_type": "markdown",
            "metadata": {},
            "source": "### 2. Data"
        },
        {
            "cell_type": "markdown",
            "metadata": {},
            "source": "I'll be using NYC Census data that contains Population and Average Income per Neighborhood with Foursqare API to collect competitors on the same neighborhoods.\n\nData is publicly available here: https://www.kaggle.com/muonneutrino/new-york-city-census-data/data?select=nyc_census_tracts.csv"
        },
        {
            "cell_type": "code",
            "execution_count": 2,
            "metadata": {},
            "outputs": [
                {
                    "data": {
                        "text/html": "<div>\n<style scoped>\n    .dataframe tbody tr th:only-of-type {\n        vertical-align: middle;\n    }\n\n    .dataframe tbody tr th {\n        vertical-align: top;\n    }\n\n    .dataframe thead th {\n        text-align: right;\n    }\n</style>\n<table border=\"1\" class=\"dataframe\">\n  <thead>\n    <tr style=\"text-align: right;\">\n      <th></th>\n      <th>CensusTract</th>\n      <th>County</th>\n      <th>Borough</th>\n      <th>TotalPop</th>\n      <th>Men</th>\n      <th>Women</th>\n      <th>Hispanic</th>\n      <th>White</th>\n      <th>Black</th>\n      <th>Native</th>\n      <th>...</th>\n      <th>Walk</th>\n      <th>OtherTransp</th>\n      <th>WorkAtHome</th>\n      <th>MeanCommute</th>\n      <th>Employed</th>\n      <th>PrivateWork</th>\n      <th>PublicWork</th>\n      <th>SelfEmployed</th>\n      <th>FamilyWork</th>\n      <th>Unemployment</th>\n    </tr>\n  </thead>\n  <tbody>\n    <tr>\n      <th>0</th>\n      <td>36005000100</td>\n      <td>Bronx</td>\n      <td>Bronx</td>\n      <td>7703</td>\n      <td>7133</td>\n      <td>570</td>\n      <td>29.9</td>\n      <td>6.1</td>\n      <td>60.9</td>\n      <td>0.2</td>\n      <td>...</td>\n      <td>NaN</td>\n      <td>NaN</td>\n      <td>NaN</td>\n      <td>NaN</td>\n      <td>0</td>\n      <td>NaN</td>\n      <td>NaN</td>\n      <td>NaN</td>\n      <td>NaN</td>\n      <td>NaN</td>\n    </tr>\n    <tr>\n      <th>1</th>\n      <td>36005000200</td>\n      <td>Bronx</td>\n      <td>Bronx</td>\n      <td>5403</td>\n      <td>2659</td>\n      <td>2744</td>\n      <td>75.8</td>\n      <td>2.3</td>\n      <td>16.0</td>\n      <td>0.0</td>\n      <td>...</td>\n      <td>2.9</td>\n      <td>0.0</td>\n      <td>0.0</td>\n      <td>43.0</td>\n      <td>2308</td>\n      <td>80.8</td>\n      <td>16.2</td>\n      <td>2.9</td>\n      <td>0.0</td>\n      <td>7.7</td>\n    </tr>\n    <tr>\n      <th>2</th>\n      <td>36005000400</td>\n      <td>Bronx</td>\n      <td>Bronx</td>\n      <td>5915</td>\n      <td>2896</td>\n      <td>3019</td>\n      <td>62.7</td>\n      <td>3.6</td>\n      <td>30.7</td>\n      <td>0.0</td>\n      <td>...</td>\n      <td>1.4</td>\n      <td>0.5</td>\n      <td>2.1</td>\n      <td>45.0</td>\n      <td>2675</td>\n      <td>71.7</td>\n      <td>25.3</td>\n      <td>2.5</td>\n      <td>0.6</td>\n      <td>9.5</td>\n    </tr>\n    <tr>\n      <th>3</th>\n      <td>36005001600</td>\n      <td>Bronx</td>\n      <td>Bronx</td>\n      <td>5879</td>\n      <td>2558</td>\n      <td>3321</td>\n      <td>65.1</td>\n      <td>1.6</td>\n      <td>32.4</td>\n      <td>0.0</td>\n      <td>...</td>\n      <td>8.6</td>\n      <td>1.6</td>\n      <td>1.7</td>\n      <td>38.8</td>\n      <td>2120</td>\n      <td>75.0</td>\n      <td>21.3</td>\n      <td>3.8</td>\n      <td>0.0</td>\n      <td>8.7</td>\n    </tr>\n    <tr>\n      <th>4</th>\n      <td>36005001900</td>\n      <td>Bronx</td>\n      <td>Bronx</td>\n      <td>2591</td>\n      <td>1206</td>\n      <td>1385</td>\n      <td>55.4</td>\n      <td>9.0</td>\n      <td>29.0</td>\n      <td>0.0</td>\n      <td>...</td>\n      <td>3.0</td>\n      <td>2.4</td>\n      <td>6.2</td>\n      <td>45.4</td>\n      <td>1083</td>\n      <td>76.8</td>\n      <td>15.5</td>\n      <td>7.7</td>\n      <td>0.0</td>\n      <td>19.2</td>\n    </tr>\n  </tbody>\n</table>\n<p>5 rows \u00d7 36 columns</p>\n</div>",
                        "text/plain": "   CensusTract County Borough  TotalPop   Men  Women  Hispanic  White  Black  \\\n0  36005000100  Bronx   Bronx      7703  7133    570      29.9    6.1   60.9   \n1  36005000200  Bronx   Bronx      5403  2659   2744      75.8    2.3   16.0   \n2  36005000400  Bronx   Bronx      5915  2896   3019      62.7    3.6   30.7   \n3  36005001600  Bronx   Bronx      5879  2558   3321      65.1    1.6   32.4   \n4  36005001900  Bronx   Bronx      2591  1206   1385      55.4    9.0   29.0   \n\n   Native  ...  Walk  OtherTransp  WorkAtHome  MeanCommute  Employed  \\\n0     0.2  ...   NaN          NaN         NaN          NaN         0   \n1     0.0  ...   2.9          0.0         0.0         43.0      2308   \n2     0.0  ...   1.4          0.5         2.1         45.0      2675   \n3     0.0  ...   8.6          1.6         1.7         38.8      2120   \n4     0.0  ...   3.0          2.4         6.2         45.4      1083   \n\n   PrivateWork  PublicWork  SelfEmployed  FamilyWork  Unemployment  \n0          NaN         NaN           NaN         NaN           NaN  \n1         80.8        16.2           2.9         0.0           7.7  \n2         71.7        25.3           2.5         0.6           9.5  \n3         75.0        21.3           3.8         0.0           8.7  \n4         76.8        15.5           7.7         0.0          19.2  \n\n[5 rows x 36 columns]"
                    },
                    "execution_count": 2,
                    "metadata": {},
                    "output_type": "execute_result"
                }
            ],
            "source": "# The code was removed by Watson Studio for sharing."
        },
        {
            "cell_type": "code",
            "execution_count": null,
            "metadata": {},
            "outputs": [],
            "source": ""
        }
    ],
    "metadata": {
        "kernelspec": {
            "display_name": "Python 3.6",
            "language": "python",
            "name": "python3"
        },
        "language_info": {
            "codemirror_mode": {
                "name": "ipython",
                "version": 3
            },
            "file_extension": ".py",
            "mimetype": "text/x-python",
            "name": "python",
            "nbconvert_exporter": "python",
            "pygments_lexer": "ipython3",
            "version": "3.6.9"
        }
    },
    "nbformat": 4,
    "nbformat_minor": 1
}